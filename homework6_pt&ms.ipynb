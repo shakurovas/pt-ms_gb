{
  "nbformat": 4,
  "nbformat_minor": 0,
  "metadata": {
    "colab": {
      "name": "homework6_pt&ms.ipynb",
      "provenance": [],
      "authorship_tag": "ABX9TyNh1BS4o4PtiOxvdoWtfVXP",
      "include_colab_link": true
    },
    "kernelspec": {
      "name": "python3",
      "display_name": "Python 3"
    },
    "language_info": {
      "name": "python"
    }
  },
  "cells": [
    {
      "cell_type": "markdown",
      "metadata": {
        "id": "view-in-github",
        "colab_type": "text"
      },
      "source": [
        "<a href=\"https://colab.research.google.com/github/shakurovas/pt-ms_gb/blob/master/homework6_pt%26ms.ipynb\" target=\"_parent\"><img src=\"https://colab.research.google.com/assets/colab-badge.svg\" alt=\"Open In Colab\"/></a>"
      ]
    },
    {
      "cell_type": "code",
      "execution_count": 1,
      "metadata": {
        "id": "hKn5p--CrwxG"
      },
      "outputs": [],
      "source": [
        "import numpy as np\n",
        "import pandas as pd\n",
        "import scipy.stats as st"
      ]
    },
    {
      "cell_type": "markdown",
      "source": [
        "**Задание 1:** Даны значения величины заработной платы заемщиков банка (zp) и значения их поведенческого кредитного скоринга (ks):\n",
        "zp = [35, 45, 190, 200, 40, 70, 54, 150, 120, 110],\n",
        "ks = [401, 574, 874, 919, 459, 739, 653, 902, 746, 832].\n",
        "Найдите ковариацию этих двух величин с помощью элементарных действий, а затем с помощью функции cov из numpy.\n",
        "Полученные значения должны быть равны.\n",
        "Найдите коэффициент корреляции Пирсона с помощью ковариации и среднеквадратичных отклонений двух признаков,\n",
        "а затем с использованием функций из библиотек numpy и pandas."
      ],
      "metadata": {
        "id": "FC3BYLJ8tgGL"
      }
    },
    {
      "cell_type": "markdown",
      "source": [
        "**Решение:**"
      ],
      "metadata": {
        "id": "Jl3I-qrVtmJq"
      }
    },
    {
      "cell_type": "code",
      "source": [
        "zp = np.array([35, 45, 190, 200, 40, 70, 54, 150, 120, 110])\n",
        "ks = np.array([401, 574, 874, 919, 459, 739, 653, 902, 746, 832])"
      ],
      "metadata": {
        "id": "Pm7-Psm5tmTe"
      },
      "execution_count": 2,
      "outputs": []
    },
    {
      "cell_type": "markdown",
      "source": [
        "Ковариация через встроенную функцию:"
      ],
      "metadata": {
        "id": "gOYMUGDTvrtj"
      }
    },
    {
      "cell_type": "code",
      "source": [
        "cov_offset = np.cov(zp, ks, ddof=0)[0][1]\n",
        "cov_without_offset = np.cov(zp, ks, ddof=1)[0][1]\n",
        "print(cov_offset)\n",
        "print(cov_without_offset)"
      ],
      "metadata": {
        "colab": {
          "base_uri": "https://localhost:8080/"
        },
        "id": "lg-PaTfQt_wL",
        "outputId": "88f81ae1-a00d-45b7-f1f0-8ff1828c247c"
      },
      "execution_count": 3,
      "outputs": [
        {
          "output_type": "stream",
          "name": "stdout",
          "text": [
            "9157.84\n",
            "10175.377777777776\n"
          ]
        }
      ]
    },
    {
      "cell_type": "markdown",
      "source": [
        "Ковариация через расчёты:"
      ],
      "metadata": {
        "id": "Y0PqiyEzvyFN"
      }
    },
    {
      "cell_type": "code",
      "source": [
        "cov = np.mean(zp * ks) - np.mean(zp) * np.mean(ks)\n",
        "print(cov)"
      ],
      "metadata": {
        "colab": {
          "base_uri": "https://localhost:8080/"
        },
        "id": "OZh2FVi3uMbs",
        "outputId": "18e1a4a5-8e04-40a4-c8f7-2e7fa75d1767"
      },
      "execution_count": 4,
      "outputs": [
        {
          "output_type": "stream",
          "name": "stdout",
          "text": [
            "9157.839999999997\n"
          ]
        }
      ]
    },
    {
      "cell_type": "markdown",
      "source": [
        "Коэффициент корреляции Пирсона через встроенные функции:"
      ],
      "metadata": {
        "id": "AjXZgk0BuwmW"
      }
    },
    {
      "cell_type": "markdown",
      "source": [
        "**Numpy:**"
      ],
      "metadata": {
        "id": "SRVducj0xNB2"
      }
    },
    {
      "cell_type": "code",
      "source": [
        "np.corrcoef(zp, ks)"
      ],
      "metadata": {
        "colab": {
          "base_uri": "https://localhost:8080/"
        },
        "id": "UkXSlJ6buzGD",
        "outputId": "625a1b6d-0ec6-4e5c-d358-a6b7263faed3"
      },
      "execution_count": 5,
      "outputs": [
        {
          "output_type": "execute_result",
          "data": {
            "text/plain": [
              "array([[1.        , 0.88749009],\n",
              "       [0.88749009, 1.        ]])"
            ]
          },
          "metadata": {},
          "execution_count": 5
        }
      ]
    },
    {
      "cell_type": "markdown",
      "source": [
        "**Pandas:**"
      ],
      "metadata": {
        "id": "JcnykD7oxRNe"
      }
    },
    {
      "cell_type": "code",
      "source": [
        "df = pd.DataFrame(list(zip(zp, ks)))\n",
        "corr_coef = df.corr(method='pearson')\n",
        "print(corr_coef)"
      ],
      "metadata": {
        "colab": {
          "base_uri": "https://localhost:8080/"
        },
        "id": "0Z-dsMI0wdG1",
        "outputId": "88562a11-052e-4c42-fe13-6aa2b396264e"
      },
      "execution_count": 6,
      "outputs": [
        {
          "output_type": "stream",
          "name": "stdout",
          "text": [
            "         0        1\n",
            "0  1.00000  0.88749\n",
            "1  0.88749  1.00000\n"
          ]
        }
      ]
    },
    {
      "cell_type": "markdown",
      "source": [
        "Коэффициент корреляции Пирсона через расчёты:"
      ],
      "metadata": {
        "id": "m3aLakKRv_bS"
      }
    },
    {
      "cell_type": "code",
      "source": [
        "pearson_coef_offset =  cov_offset / np.std(zp, ddof=0) / np.std(ks, ddof=0)\n",
        "print(pearson_coef_offset)"
      ],
      "metadata": {
        "colab": {
          "base_uri": "https://localhost:8080/"
        },
        "id": "_LinLKyFv_kL",
        "outputId": "53b6ec14-dcb4-4b00-f52e-302881a86bdc"
      },
      "execution_count": 7,
      "outputs": [
        {
          "output_type": "stream",
          "name": "stdout",
          "text": [
            "0.8874900920739162\n"
          ]
        }
      ]
    },
    {
      "cell_type": "code",
      "source": [
        "pearson_coef_without_offset =  cov_without_offset / np.std(zp, ddof=1) / np.std(ks, ddof=1)\n",
        "print(pearson_coef_without_offset)"
      ],
      "metadata": {
        "colab": {
          "base_uri": "https://localhost:8080/"
        },
        "id": "snWJYVodyjnG",
        "outputId": "b4b01e02-7ca8-4181-c8b8-a28a5b7d9ea8"
      },
      "execution_count": 8,
      "outputs": [
        {
          "output_type": "stream",
          "name": "stdout",
          "text": [
            "0.8874900920739159\n"
          ]
        }
      ]
    },
    {
      "cell_type": "markdown",
      "source": [
        "**Задание 2:** Измерены значения IQ выборки студентов,\n",
        "обучающихся в местных технических вузах:\n",
        "131, 125, 115, 122, 131, 115, 107, 99, 125, 111.\n",
        "Известно, что в генеральной совокупности IQ распределен нормально.\n",
        "Найдите доверительный интервал для математического ожидания с надежностью 0.95."
      ],
      "metadata": {
        "id": "0DDjHkCbzICN"
      }
    },
    {
      "cell_type": "code",
      "source": [
        "iq_list = np.array([131, 125, 115, 122, 131, 115, 107, 99, 125, 111])"
      ],
      "metadata": {
        "id": "u6EQC1KUzNrb"
      },
      "execution_count": 9,
      "outputs": []
    },
    {
      "cell_type": "code",
      "source": [
        "iq_list_mean = np.mean(iq_list)\n",
        "print(iq_list_mean)"
      ],
      "metadata": {
        "colab": {
          "base_uri": "https://localhost:8080/"
        },
        "id": "vEPI16SJ1EEq",
        "outputId": "2ff8964f-a447-4311-b5f3-77af8676df9f"
      },
      "execution_count": 10,
      "outputs": [
        {
          "output_type": "stream",
          "name": "stdout",
          "text": [
            "118.1\n"
          ]
        }
      ]
    },
    {
      "cell_type": "code",
      "source": [
        "iq_list_sigma = np.std(iq_list, ddof=1)\n",
        "print(iq_list_sigma)"
      ],
      "metadata": {
        "colab": {
          "base_uri": "https://localhost:8080/"
        },
        "id": "qiT50pxB1ShK",
        "outputId": "7d9e7f53-e691-46b3-9c8e-e6d0b6c596ad"
      },
      "execution_count": 11,
      "outputs": [
        {
          "output_type": "stream",
          "name": "stdout",
          "text": [
            "10.54566788359614\n"
          ]
        }
      ]
    },
    {
      "cell_type": "code",
      "source": [
        "accuracy_2 = 0.95\n",
        "n_2 = iq_list.shape[0]\n",
        "print(n_2)"
      ],
      "metadata": {
        "colab": {
          "base_uri": "https://localhost:8080/"
        },
        "id": "YYstXl0h1iuy",
        "outputId": "50b7a7db-d313-4c6f-c44b-bd87ea6f74bd"
      },
      "execution_count": 12,
      "outputs": [
        {
          "output_type": "stream",
          "name": "stdout",
          "text": [
            "10\n"
          ]
        }
      ]
    },
    {
      "cell_type": "markdown",
      "source": [
        "Т. к. дисперсия генеральной совокупности нам неизвестна, используем критерий Стьюдента:"
      ],
      "metadata": {
        "id": "q52ri6dE2IzT"
      }
    },
    {
      "cell_type": "code",
      "source": [
        "t = abs(st.t.ppf((1 - accuracy_2) / 2, n_2 - 1)) # то, что критерий Стьюдента получается отрицательным, говорит о том, что среднее выборочное меньше мат. ожидания изначальной выборки\n",
        "print(t)"
      ],
      "metadata": {
        "colab": {
          "base_uri": "https://localhost:8080/"
        },
        "id": "aYpaBbpr2I97",
        "outputId": "83a74861-1129-4b34-ee7c-c16e08058498"
      },
      "execution_count": 14,
      "outputs": [
        {
          "output_type": "stream",
          "name": "stdout",
          "text": [
            "2.2621571627409915\n"
          ]
        }
      ]
    },
    {
      "cell_type": "code",
      "source": [
        "conf_int_left_2 = iq_list_mean - t * iq_list_sigma / np.sqrt(n_2)\n",
        "print(conf_int_left_2)"
      ],
      "metadata": {
        "colab": {
          "base_uri": "https://localhost:8080/"
        },
        "id": "ozSxpBHw1p2A",
        "outputId": "5e4956f0-7c5d-418e-cfaf-e4e5fb5eb672"
      },
      "execution_count": 15,
      "outputs": [
        {
          "output_type": "stream",
          "name": "stdout",
          "text": [
            "110.55608365158724\n"
          ]
        }
      ]
    },
    {
      "cell_type": "code",
      "source": [
        "conf_int_right_2 = iq_list_mean + t * iq_list_sigma / np.sqrt(n_2)\n",
        "print(conf_int_right_2)"
      ],
      "metadata": {
        "colab": {
          "base_uri": "https://localhost:8080/"
        },
        "id": "vGpHH3qc3F--",
        "outputId": "c2940f9e-ba66-4571-d2ad-11a78897a3a4"
      },
      "execution_count": 16,
      "outputs": [
        {
          "output_type": "stream",
          "name": "stdout",
          "text": [
            "125.64391634841274\n"
          ]
        }
      ]
    },
    {
      "cell_type": "markdown",
      "source": [
        "или:"
      ],
      "metadata": {
        "id": "G77UoCC13KSC"
      }
    },
    {
      "cell_type": "code",
      "source": [
        "st.t.interval(0.95, 9, loc=iq_list_mean, scale=st.sem(iq_list))"
      ],
      "metadata": {
        "colab": {
          "base_uri": "https://localhost:8080/"
        },
        "id": "cruzFxNn3Jt0",
        "outputId": "be099899-99a4-4d15-b146-5bdc84678c31"
      },
      "execution_count": 17,
      "outputs": [
        {
          "output_type": "execute_result",
          "data": {
            "text/plain": [
              "(110.55608365158724, 125.64391634841274)"
            ]
          },
          "metadata": {},
          "execution_count": 17
        }
      ]
    },
    {
      "cell_type": "markdown",
      "source": [
        "Итак, с надежностью 0.95 истинное значение измеряемой величины заключено в доверительном интервале 110.556 <= X <= 125.644"
      ],
      "metadata": {
        "id": "IjPN1D233iq_"
      }
    },
    {
      "cell_type": "markdown",
      "source": [
        "**Задание 3:** Известно, что рост футболистов в сборной распределен нормально\n",
        "с дисперсией генеральной совокупности, равной 25 кв.см. Объем выборки равен 27,\n",
        "среднее выборочное составляет 174.2. Найдите доверительный интервал для математического\n",
        "ожидания с надежностью 0.95."
      ],
      "metadata": {
        "id": "X2Qir0ND3spU"
      }
    },
    {
      "cell_type": "markdown",
      "source": [
        "**Решение:**"
      ],
      "metadata": {
        "id": "P6gA0zHd3ywd"
      }
    },
    {
      "cell_type": "code",
      "source": [
        "var = 25\n",
        "n_3 = 27\n",
        "mean = 174.2\n",
        "accuracy_3 = 0.95"
      ],
      "metadata": {
        "id": "O2fY7MSu3y8n"
      },
      "execution_count": 18,
      "outputs": []
    },
    {
      "cell_type": "markdown",
      "source": [
        "Т. к. дисперсия генеральной совокупности нам известна (var=25), то используем z-критерий:"
      ],
      "metadata": {
        "id": "TBZSWvNy4BMR"
      }
    },
    {
      "cell_type": "code",
      "source": [
        "z = st.norm.isf((1 - accuracy_3) / 2)\n",
        "print(z)"
      ],
      "metadata": {
        "colab": {
          "base_uri": "https://localhost:8080/"
        },
        "id": "V637nYMO4BUp",
        "outputId": "3c6261e1-7bfd-4368-eddd-ad3409cd10c4"
      },
      "execution_count": 19,
      "outputs": [
        {
          "output_type": "stream",
          "name": "stdout",
          "text": [
            "1.959963984540054\n"
          ]
        }
      ]
    },
    {
      "cell_type": "code",
      "source": [
        "conf_int_left_3 = mean - z * np.sqrt(var / n_3)\n",
        "print(conf_int_left_3)"
      ],
      "metadata": {
        "colab": {
          "base_uri": "https://localhost:8080/"
        },
        "id": "Cvf7DdWr6WC-",
        "outputId": "cffde018-0664-453a-aaa2-0c37eacab83d"
      },
      "execution_count": 20,
      "outputs": [
        {
          "output_type": "stream",
          "name": "stdout",
          "text": [
            "172.3140237765397\n"
          ]
        }
      ]
    },
    {
      "cell_type": "code",
      "source": [
        "conf_int_right_3 = mean + z * np.sqrt(var / n_3)\n",
        "print(conf_int_right_3)"
      ],
      "metadata": {
        "colab": {
          "base_uri": "https://localhost:8080/"
        },
        "id": "QPL-l1qJ6fDH",
        "outputId": "1510aad4-acb3-43ae-f91d-78611482473c"
      },
      "execution_count": 21,
      "outputs": [
        {
          "output_type": "stream",
          "name": "stdout",
          "text": [
            "176.08597622346028\n"
          ]
        }
      ]
    },
    {
      "cell_type": "markdown",
      "source": [
        "Итак, с надежностью 0,95 истинное значение измеряемой величины заключено в доверительном интервале 172.314 <= X <= 176.086"
      ],
      "metadata": {
        "id": "8r8oZnht7tJD"
      }
    }
  ]
}