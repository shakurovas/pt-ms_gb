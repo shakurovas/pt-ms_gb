{
  "nbformat": 4,
  "nbformat_minor": 0,
  "metadata": {
    "colab": {
      "name": "homework1_pt&ms.ipynb",
      "provenance": [],
      "collapsed_sections": [],
      "authorship_tag": "ABX9TyMTu89qrRlhLjqrhgfYqClj",
      "include_colab_link": true
    },
    "kernelspec": {
      "name": "python3",
      "display_name": "Python 3"
    },
    "language_info": {
      "name": "python"
    }
  },
  "cells": [
    {
      "cell_type": "markdown",
      "metadata": {
        "id": "view-in-github",
        "colab_type": "text"
      },
      "source": [
        "<a href=\"https://colab.research.google.com/github/shakurovas/pt-ms_gb/blob/master/homework1_pt%26ms.ipynb\" target=\"_parent\"><img src=\"https://colab.research.google.com/assets/colab-badge.svg\" alt=\"Open In Colab\"/></a>"
      ]
    },
    {
      "cell_type": "code",
      "source": [
        "from math import factorial as fact"
      ],
      "metadata": {
        "id": "3BsELhsXSzm_"
      },
      "execution_count": null,
      "outputs": []
    },
    {
      "cell_type": "code",
      "source": [
        "def combinations_without_repetitions(n, m): # n элементов из m (сочетания без повторений)\n",
        "  return fact(m) / (fact(n) * fact(m-n))"
      ],
      "metadata": {
        "id": "BzAm6nadP3vY"
      },
      "execution_count": null,
      "outputs": []
    },
    {
      "cell_type": "code",
      "source": [
        "def variations_without_repetitions(n, m): # n из m по n различным местам (размещения без повторений)\n",
        "  return fact(m) / fact(m-n)"
      ],
      "metadata": {
        "id": "8gFXDzm-UBd6"
      },
      "execution_count": null,
      "outputs": []
    },
    {
      "cell_type": "markdown",
      "source": [
        "**Задание 1**. Из колоды в 52 карты извлекаются случайным образом 4 карты.\n",
        "a) Найти вероятность того, что все карты – крести.\n",
        "б) Найти вероятность, что среди 4-х карт окажется хотя бы один туз."
      ],
      "metadata": {
        "id": "Ng7iM5IRO9hs"
      }
    },
    {
      "cell_type": "markdown",
      "source": [
        "**Решение (a):**"
      ],
      "metadata": {
        "id": "D7geu1J0PAIY"
      }
    },
    {
      "cell_type": "code",
      "source": [
        "probability_1a = combinations_without_repetitions(4, 13) * combinations_without_repetitions(0, 39) / combinations_without_repetitions(4, 52)\n",
        "print(probability_1a)"
      ],
      "metadata": {
        "colab": {
          "base_uri": "https://localhost:8080/"
        },
        "id": "YvanK2qNPGf-",
        "outputId": "ff419cd4-a873-48b6-e372-e5252f758005"
      },
      "execution_count": null,
      "outputs": [
        {
          "output_type": "stream",
          "name": "stdout",
          "text": [
            "0.0026410564225690276\n"
          ]
        }
      ]
    },
    {
      "cell_type": "markdown",
      "source": [
        "**Решение (b):**"
      ],
      "metadata": {
        "id": "CivAeuLrPKqg"
      }
    },
    {
      "cell_type": "code",
      "source": [
        "probability_1b = 1 - combinations_without_repetitions(0, 4) * combinations_without_repetitions(4, 48) / combinations_without_repetitions(4, 52)\n",
        "print(probability_1b)"
      ],
      "metadata": {
        "colab": {
          "base_uri": "https://localhost:8080/"
        },
        "id": "uGiviDr8POTs",
        "outputId": "a1b5230b-0572-47b8-9987-ebc8c270cf38"
      },
      "execution_count": null,
      "outputs": [
        {
          "output_type": "stream",
          "name": "stdout",
          "text": [
            "0.2812632745405854\n"
          ]
        }
      ]
    },
    {
      "cell_type": "markdown",
      "source": [
        "**Задание 2**. На входной двери подъезда установлен кодовый замок, содержащий десять кнопок с цифрами от 0 до 9. Код содержит три цифры, которые нужно нажать одновременно. Какова вероятность того, что человек, не знающий код, откроет дверь с первой попытки?"
      ],
      "metadata": {
        "id": "Jf08iP8jMsPK"
      }
    },
    {
      "cell_type": "markdown",
      "source": [
        "**Решение:**"
      ],
      "metadata": {
        "id": "ttgMUN9HM1bJ"
      }
    },
    {
      "cell_type": "code",
      "source": [
        "all_variants = variations_without_repetitions(3, 10) # все варианты кода из трёхзначных цифр, где цифры не повторяются (т. к. невозможно одновременно нажать две или три одинаковые цифры)\n",
        "print(all_variants)"
      ],
      "metadata": {
        "colab": {
          "base_uri": "https://localhost:8080/"
        },
        "id": "4aFAaiK5M39J",
        "outputId": "8b378fb2-364d-44cb-c8c4-9e7a3e51ef67"
      },
      "execution_count": null,
      "outputs": [
        {
          "output_type": "stream",
          "name": "stdout",
          "text": [
            "720.0\n"
          ]
        }
      ]
    },
    {
      "cell_type": "markdown",
      "source": [
        "Верный ответ только один, поэтому:"
      ],
      "metadata": {
        "id": "jHZd_tVuN2jN"
      }
    },
    {
      "cell_type": "code",
      "source": [
        "probability_2 = 1 / all_variants\n",
        "print(probability_2)"
      ],
      "metadata": {
        "colab": {
          "base_uri": "https://localhost:8080/"
        },
        "id": "xlDoTJJvN1Dd",
        "outputId": "38991735-6e50-40af-e7eb-7ac079dd4b95"
      },
      "execution_count": null,
      "outputs": [
        {
          "output_type": "stream",
          "name": "stdout",
          "text": [
            "0.001388888888888889\n"
          ]
        }
      ]
    },
    {
      "cell_type": "markdown",
      "source": [
        "**Задание 3**. В ящике имеется 15 деталей, из которых 9 окрашены. Рабочий случайным образом извлекает 3 детали. Какова вероятность того, что все извлеченные детали окрашены?"
      ],
      "metadata": {
        "id": "gD9AwfhUOHI1"
      }
    },
    {
      "cell_type": "markdown",
      "source": [
        "**Решение:**"
      ],
      "metadata": {
        "id": "eVF0S8kkOdL7"
      }
    },
    {
      "cell_type": "code",
      "source": [
        "probability_3 = (9 / 15) * (8 / 14) * (7 / 13)\n",
        "print(probability_3)"
      ],
      "metadata": {
        "colab": {
          "base_uri": "https://localhost:8080/"
        },
        "id": "V4J-T3UJONXB",
        "outputId": "4a131875-cfb6-45ee-81cf-911c574f8db1"
      },
      "execution_count": null,
      "outputs": [
        {
          "output_type": "stream",
          "name": "stdout",
          "text": [
            "0.18461538461538457\n"
          ]
        }
      ]
    },
    {
      "cell_type": "markdown",
      "source": [
        "или:"
      ],
      "metadata": {
        "id": "uzrNG93CfRam"
      }
    },
    {
      "cell_type": "code",
      "source": [
        "probability_3 = combinations_without_repetitions(3, 9) * combinations_without_repetitions(0, 6) / combinations_without_repetitions(3, 15)\n",
        "print(probability_3)"
      ],
      "metadata": {
        "colab": {
          "base_uri": "https://localhost:8080/"
        },
        "id": "D2_TknJ2fQdG",
        "outputId": "81ce257a-7a7b-4c90-a08a-199fb93c2d55"
      },
      "execution_count": null,
      "outputs": [
        {
          "output_type": "stream",
          "name": "stdout",
          "text": [
            "0.18461538461538463\n"
          ]
        }
      ]
    },
    {
      "cell_type": "markdown",
      "source": [
        "**Задание 4**. В лотерее 100 билетов. Из них 2 выигрышных. Какова вероятность того, что 2 приобретенных билета окажутся выигрышными?"
      ],
      "metadata": {
        "id": "pw9DqIUrOW5E"
      }
    },
    {
      "cell_type": "markdown",
      "source": [
        "**Решение:**"
      ],
      "metadata": {
        "id": "3AWGbZA8Ofbe"
      }
    },
    {
      "cell_type": "code",
      "source": [
        "probability_4 = combinations_without_repetitions(2, 2) * combinations_without_repetitions(0, 98) / combinations_without_repetitions(2, 100)\n",
        "print(probability_4)"
      ],
      "metadata": {
        "colab": {
          "base_uri": "https://localhost:8080/"
        },
        "id": "LnFpxa3XOa42",
        "outputId": "86fc6187-f3b7-4b81-b88c-d60191d97fbd"
      },
      "execution_count": null,
      "outputs": [
        {
          "output_type": "stream",
          "name": "stdout",
          "text": [
            "0.00020202020202020202\n"
          ]
        }
      ]
    }
  ]
}