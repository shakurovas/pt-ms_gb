{
  "nbformat": 4,
  "nbformat_minor": 0,
  "metadata": {
    "colab": {
      "name": "homework7_pt&ms.ipynb",
      "provenance": [],
      "collapsed_sections": [],
      "authorship_tag": "ABX9TyN8tdTZ+OOQNufX4bbJcfIm",
      "include_colab_link": true
    },
    "kernelspec": {
      "name": "python3",
      "display_name": "Python 3"
    },
    "language_info": {
      "name": "python"
    }
  },
  "cells": [
    {
      "cell_type": "markdown",
      "metadata": {
        "id": "view-in-github",
        "colab_type": "text"
      },
      "source": [
        "<a href=\"https://colab.research.google.com/github/shakurovas/pt-ms_gb/blob/master/homework7_pt%26ms.ipynb\" target=\"_parent\"><img src=\"https://colab.research.google.com/assets/colab-badge.svg\" alt=\"Open In Colab\"/></a>"
      ]
    },
    {
      "cell_type": "code",
      "execution_count": 1,
      "metadata": {
        "id": "yDsRkfYSy7lL"
      },
      "outputs": [],
      "source": [
        "import numpy as np\n",
        "from sklearn.linear_model import LinearRegression\n",
        "# from sympy import diff # для производных\n",
        "# from sympy.abc import x, y # для производных"
      ]
    },
    {
      "cell_type": "markdown",
      "source": [
        "**Задание 1:** Даны значения величины заработной платы заемщиков банка (zp) и значения их поведенческого кредитного скоринга (ks): zp = [35, 45, 190, 200, 40, 70, 54, 150, 120, 110], ks = [401, 574, 874, 919, 459, 739, 653, 902, 746, 832]. Используя математические операции, посчитать коэффициенты линейной регрессии, приняв за X заработную плату (то есть, zp - признак), а за y - значения скорингового балла (то есть, ks - целевая переменная). Произвести расчет как с использованием intercept, так и без."
      ],
      "metadata": {
        "id": "rdOVhO0JzC-8"
      }
    },
    {
      "cell_type": "markdown",
      "source": [
        "**Решение:**"
      ],
      "metadata": {
        "id": "oAmhjWgGzHhl"
      }
    },
    {
      "cell_type": "code",
      "source": [
        "zp = np.array([35, 45, 190, 200, 40, 70, 54, 150, 120, 110])\n",
        "reshaped_zp = zp.reshape((-1, 1))\n",
        "ks = np.array([401, 574, 874, 919, 459, 739, 653, 902, 746, 832])"
      ],
      "metadata": {
        "id": "9WqPkQfjzHrW"
      },
      "execution_count": 2,
      "outputs": []
    },
    {
      "cell_type": "markdown",
      "source": [
        "По формулам:"
      ],
      "metadata": {
        "id": "p1be0-mG5H5X"
      }
    },
    {
      "cell_type": "code",
      "source": [
        "b = (np.mean(zp * ks) - np.mean(zp) * np.mean(ks)) / (np.mean(zp**2) - np.mean(zp) ** 2)\n",
        "b"
      ],
      "metadata": {
        "id": "fIaUIngQ23Si",
        "colab": {
          "base_uri": "https://localhost:8080/"
        },
        "outputId": "6ef8319e-be17-4ec4-ea15-123d1b2a82f4"
      },
      "execution_count": 3,
      "outputs": [
        {
          "output_type": "execute_result",
          "data": {
            "text/plain": [
              "2.620538882402765"
            ]
          },
          "metadata": {},
          "execution_count": 3
        }
      ]
    },
    {
      "cell_type": "code",
      "source": [
        "a = np.mean(ks) - b * np.mean(zp)\n",
        "a"
      ],
      "metadata": {
        "colab": {
          "base_uri": "https://localhost:8080/"
        },
        "id": "3MHt5DJGAkOJ",
        "outputId": "d63353cf-98c4-43e6-9a1e-1d7d69bd9a29"
      },
      "execution_count": 4,
      "outputs": [
        {
          "output_type": "execute_result",
          "data": {
            "text/plain": [
              "444.1773573243596"
            ]
          },
          "metadata": {},
          "execution_count": 4
        }
      ]
    },
    {
      "cell_type": "code",
      "source": [
        "r = b * np.std(zp) / np.std(ks)\n",
        "R = r ** 2\n",
        "R"
      ],
      "metadata": {
        "colab": {
          "base_uri": "https://localhost:8080/"
        },
        "id": "_Ny5CXnTBn5B",
        "outputId": "218ae04d-3ead-4253-bf02-8c5528c4ea90"
      },
      "execution_count": 5,
      "outputs": [
        {
          "output_type": "execute_result",
          "data": {
            "text/plain": [
              "0.7876386635293682"
            ]
          },
          "metadata": {},
          "execution_count": 5
        }
      ]
    },
    {
      "cell_type": "markdown",
      "source": [
        "Это означает, что **78.8%** вариации поведенческого кредитного скоринга заёмщиков банка(y) объясняется вариацией фактора x  — их заработной платой"
      ],
      "metadata": {
        "id": "UBAVJQVYB1uD"
      }
    },
    {
      "cell_type": "code",
      "source": [
        "ks_pred = a + b * zp\n",
        "ks_pred"
      ],
      "metadata": {
        "colab": {
          "base_uri": "https://localhost:8080/"
        },
        "id": "mlqU9dqXBojf",
        "outputId": "127d10be-e985-437e-e0a7-2ad39290de98"
      },
      "execution_count": 6,
      "outputs": [
        {
          "output_type": "execute_result",
          "data": {
            "text/plain": [
              "array([535.89621821, 562.10160703, 942.07974498, 968.2851338 ,\n",
              "       548.99891262, 627.61507909, 585.68645697, 837.25818968,\n",
              "       758.64202321, 732.43663439])"
            ]
          },
          "metadata": {},
          "execution_count": 6
        }
      ]
    },
    {
      "cell_type": "markdown",
      "source": [
        "Средняя ошибка аппроксимации:"
      ],
      "metadata": {
        "id": "abEB1BhaC6y5"
      }
    },
    {
      "cell_type": "code",
      "source": [
        "A_mean = 100 * np.mean(np.abs((ks - ks_pred) / ks))\n",
        "A_mean"
      ],
      "metadata": {
        "colab": {
          "base_uri": "https://localhost:8080/"
        },
        "id": "Pdf56tttCgEE",
        "outputId": "35d66124-a0e7-4b6c-8fb4-2ff9b94c3fa2"
      },
      "execution_count": 7,
      "outputs": [
        {
          "output_type": "execute_result",
          "data": {
            "text/plain": [
              "11.46925184356171"
            ]
          },
          "metadata": {},
          "execution_count": 7
        }
      ]
    },
    {
      "cell_type": "markdown",
      "source": [
        "Т. к. это значение немного больше 10%, то можем сказать, что модель достаточно неплохо описывает эмпирические данные, но можно и лучше:)"
      ],
      "metadata": {
        "id": "rRRTH0wlCgRn"
      }
    },
    {
      "cell_type": "markdown",
      "source": [
        "Вариант решения через матричный метод:"
      ],
      "metadata": {
        "id": "6FNhdU2eEkuL"
      }
    },
    {
      "cell_type": "code",
      "source": [
        "zp_for_matrix = np.hstack([np.ones((zp.shape[0], 1)), reshaped_zp])\n",
        "zp_for_matrix"
      ],
      "metadata": {
        "colab": {
          "base_uri": "https://localhost:8080/"
        },
        "id": "w4424T1FFBbr",
        "outputId": "8a3f7e8a-eb33-4fd3-817d-1ce0fc334336"
      },
      "execution_count": 8,
      "outputs": [
        {
          "output_type": "execute_result",
          "data": {
            "text/plain": [
              "array([[  1.,  35.],\n",
              "       [  1.,  45.],\n",
              "       [  1., 190.],\n",
              "       [  1., 200.],\n",
              "       [  1.,  40.],\n",
              "       [  1.,  70.],\n",
              "       [  1.,  54.],\n",
              "       [  1., 150.],\n",
              "       [  1., 120.],\n",
              "       [  1., 110.]])"
            ]
          },
          "metadata": {},
          "execution_count": 8
        }
      ]
    },
    {
      "cell_type": "markdown",
      "source": [
        "С интерцептом:"
      ],
      "metadata": {
        "id": "-RiM5skzMX2H"
      }
    },
    {
      "cell_type": "code",
      "source": [
        "b = np.dot(np.linalg.inv(np.dot(zp_for_matrix.T, zp_for_matrix)), zp_for_matrix.T)\n",
        "b = np.dot(b, ks)\n",
        "b"
      ],
      "metadata": {
        "colab": {
          "base_uri": "https://localhost:8080/"
        },
        "id": "GOG7cSjoL1KN",
        "outputId": "85b19459-3929-4aa9-95ce-bfb7a7d11970"
      },
      "execution_count": 9,
      "outputs": [
        {
          "output_type": "execute_result",
          "data": {
            "text/plain": [
              "array([444.17735732,   2.62053888])"
            ]
          },
          "metadata": {},
          "execution_count": 9
        }
      ]
    },
    {
      "cell_type": "markdown",
      "source": [
        "Без интерцепта:"
      ],
      "metadata": {
        "id": "8JuMji8bMaUM"
      }
    },
    {
      "cell_type": "code",
      "source": [
        "no_intercept_b = np.dot(np.linalg.inv(np.dot(reshaped_zp.T, reshaped_zp)), reshaped_zp.T)\n",
        "no_intercept_b = np.dot(no_intercept_b, ks)\n",
        "no_intercept_b"
      ],
      "metadata": {
        "id": "WGy3koVkJTA_",
        "colab": {
          "base_uri": "https://localhost:8080/"
        },
        "outputId": "1fc0303f-5a8a-4cb4-b5a0-d6f25b254ec2"
      },
      "execution_count": 10,
      "outputs": [
        {
          "output_type": "execute_result",
          "data": {
            "text/plain": [
              "array([5.88982042])"
            ]
          },
          "metadata": {},
          "execution_count": 10
        }
      ]
    },
    {
      "cell_type": "markdown",
      "source": [
        "Проверим также через встроенные функции библиотеки sklearn:"
      ],
      "metadata": {
        "id": "LblA-Vsv5HTh"
      }
    },
    {
      "cell_type": "code",
      "source": [
        "model = LinearRegression().fit(reshaped_zp, ks) # Эта операция создаёт переменную model в качестве экземпляра LinearRegression и с помощью .fit() вычисляются оптимальные значение весов B1, B0\n",
        "print(model)"
      ],
      "metadata": {
        "colab": {
          "base_uri": "https://localhost:8080/"
        },
        "id": "TGZGWUxh23V7",
        "outputId": "f241cc36-65d8-4d81-f16c-69a275eea50b"
      },
      "execution_count": 11,
      "outputs": [
        {
          "output_type": "stream",
          "name": "stdout",
          "text": [
            "LinearRegression()\n"
          ]
        }
      ]
    },
    {
      "cell_type": "code",
      "source": [
        "r_sq = model.score(reshaped_zp, ks)\n",
        "print('coefficient of determination:', r_sq)"
      ],
      "metadata": {
        "id": "Hp60YCvF3mIr",
        "colab": {
          "base_uri": "https://localhost:8080/"
        },
        "outputId": "f54815b3-d0fb-446f-8f53-ed61664517a2"
      },
      "execution_count": 12,
      "outputs": [
        {
          "output_type": "stream",
          "name": "stdout",
          "text": [
            "coefficient of determination: 0.7876386635293685\n"
          ]
        }
      ]
    },
    {
      "cell_type": "code",
      "source": [
        "print('intercept:', model.intercept_) # одно значение, т. к. интерцепт всегда один\n",
        "print('slope:', model.coef_) # массив, т. к. этих значений мб несколько"
      ],
      "metadata": {
        "id": "LKzqAamy4AtA",
        "colab": {
          "base_uri": "https://localhost:8080/"
        },
        "outputId": "7261f1ba-6b3c-446c-bfca-0416351a8227"
      },
      "execution_count": 13,
      "outputs": [
        {
          "output_type": "stream",
          "name": "stdout",
          "text": [
            "intercept: 444.1773573243595\n",
            "slope: [2.62053888]\n"
          ]
        }
      ]
    },
    {
      "cell_type": "markdown",
      "source": [
        "То есть,  ***y = 444.177 + x * 2.621*** - если считать с интерцептом"
      ],
      "metadata": {
        "id": "0UR0sLq15flU"
      }
    },
    {
      "cell_type": "markdown",
      "source": [
        "А если без интерцепта, то получится следующее:"
      ],
      "metadata": {
        "id": "nslZ8rb97AzD"
      }
    },
    {
      "cell_type": "code",
      "source": [
        "no_intercept_model = LinearRegression(fit_intercept=False).fit(reshaped_zp, ks)\n",
        "print(no_intercept_model)"
      ],
      "metadata": {
        "id": "kLrxD6pS7Env",
        "colab": {
          "base_uri": "https://localhost:8080/"
        },
        "outputId": "5e8f3df3-70cc-4250-ca51-f073da8a4e1d"
      },
      "execution_count": 14,
      "outputs": [
        {
          "output_type": "stream",
          "name": "stdout",
          "text": [
            "LinearRegression(fit_intercept=False)\n"
          ]
        }
      ]
    },
    {
      "cell_type": "code",
      "source": [
        "r_sq_no_intercept = no_intercept_model.score(reshaped_zp, ks)\n",
        "print('coefficient of determination:', r_sq_no_intercept)"
      ],
      "metadata": {
        "id": "YiDu_QAX7WKM",
        "colab": {
          "base_uri": "https://localhost:8080/"
        },
        "outputId": "d9e99431-d803-4b13-a64d-d55b55966328"
      },
      "execution_count": 15,
      "outputs": [
        {
          "output_type": "stream",
          "name": "stdout",
          "text": [
            "coefficient of determination: -0.8549037531632884\n"
          ]
        }
      ]
    },
    {
      "cell_type": "code",
      "source": [
        "print('intercept:', no_intercept_model.intercept_)\n",
        "print('slope:', no_intercept_model.coef_)"
      ],
      "metadata": {
        "id": "goaHGFxv8NSm",
        "colab": {
          "base_uri": "https://localhost:8080/"
        },
        "outputId": "8ec5f430-fa97-44b9-8468-2c0fe58099e7"
      },
      "execution_count": 16,
      "outputs": [
        {
          "output_type": "stream",
          "name": "stdout",
          "text": [
            "intercept: 0.0\n",
            "slope: [5.88982042]\n"
          ]
        }
      ]
    },
    {
      "cell_type": "markdown",
      "source": [
        "То есть,  ***y = x * 5.890*** - если без интерцепта"
      ],
      "metadata": {
        "id": "ug4702IF8XaN"
      }
    },
    {
      "cell_type": "markdown",
      "source": [
        "**Задание 2:** Посчитать коэффициент линейной регрессии при заработной плате (zp), используя градиентный спуск (без intercept)."
      ],
      "metadata": {
        "id": "7OSnXyJ2MtWy"
      }
    },
    {
      "cell_type": "markdown",
      "source": [
        "**Решение:**"
      ],
      "metadata": {
        "id": "8muVZgrCMuwD"
      }
    },
    {
      "cell_type": "code",
      "source": [
        "alpha = 10e-6\n",
        "B1 = 0.1\n",
        "n = zp.shape[0]\n",
        "print(alpha, B1, n)"
      ],
      "metadata": {
        "id": "DPU2vegnM4Yw",
        "colab": {
          "base_uri": "https://localhost:8080/"
        },
        "outputId": "c3009e2a-f6c1-422a-bbcf-408fa0dc0f19"
      },
      "execution_count": 17,
      "outputs": [
        {
          "output_type": "stream",
          "name": "stdout",
          "text": [
            "1e-05 0.1 10\n"
          ]
        }
      ]
    },
    {
      "cell_type": "code",
      "source": [
        "def mse(B1, y=ks, X=zp, n=n):\n",
        "  return np.sum((B1*X - y) ** 2) / n"
      ],
      "metadata": {
        "id": "zpH2V3K4ykI7"
      },
      "execution_count": 20,
      "outputs": []
    },
    {
      "cell_type": "code",
      "source": [
        "for i in range(50):\n",
        "  B1 -= alpha * (2 / n) * np.sum((B1 * zp - ks) * zp)\n",
        "  print(f'Iteration: {i}, B1={B1}, mse={mse(B1)}')"
      ],
      "metadata": {
        "id": "wVgDGbPpRdGI",
        "colab": {
          "base_uri": "https://localhost:8080/"
        },
        "outputId": "296fd000-a33a-4789-f639-7e2df6ae867b"
      },
      "execution_count": 22,
      "outputs": [
        {
          "output_type": "stream",
          "name": "stdout",
          "text": [
            "Iteration: 0, B1=5.865666277993195, mse=56524.89599526941\n",
            "Iteration: 1, B1=5.872321517085174, mse=56521.07697055634\n",
            "Iteration: 2, B1=5.877143024839662, mse=56519.072540606314\n",
            "Iteration: 3, B1=5.880636052919541, mse=56518.0205077638\n",
            "Iteration: 4, B1=5.883166639986514, mse=56517.468344241344\n",
            "Iteration: 5, B1=5.884999969337749, mse=56517.17853907253\n",
            "Iteration: 6, B1=5.88632815778618, mse=56517.02643370434\n",
            "Iteration: 7, B1=5.887290387815039, mse=56516.94660061122\n",
            "Iteration: 8, B1=5.887987492679586, mse=56516.9046999023\n",
            "Iteration: 9, B1=5.888492522846594, mse=56516.88270815252\n",
            "Iteration: 10, B1=5.8888584010416265, mse=56516.87116569725\n",
            "Iteration: 11, B1=5.889123468085825, mse=56516.8651075948\n",
            "Iteration: 12, B1=5.889315500677202, mse=56516.86192797619\n",
            "Iteration: 13, B1=5.889454622144611, mse=56516.860259141016\n",
            "Iteration: 14, B1=5.889555411195862, mse=56516.859383246396\n",
            "Iteration: 15, B1=5.889628429638243, mse=56516.858923529704\n",
            "Iteration: 16, B1=5.8896813291631585, mse=56516.85868224562\n",
            "Iteration: 17, B1=5.889719653176175, mse=56516.85855560672\n",
            "Iteration: 18, B1=5.889747417697237, mse=56516.858489139806\n",
            "Iteration: 19, B1=5.8897675322042815, mse=56516.8584542544\n",
            "Iteration: 20, B1=5.889782104520972, mse=56516.85843594464\n",
            "Iteration: 21, B1=5.889792661698099, mse=56516.85842633471\n",
            "Iteration: 22, B1=5.889800310035098, mse=56516.858421290875\n",
            "Iteration: 23, B1=5.889805851010507, mse=56516.85841864363\n",
            "Iteration: 24, B1=5.88980986526988, mse=56516.858417254174\n",
            "Iteration: 25, B1=5.88981277347234, mse=56516.858416524934\n",
            "Iteration: 26, B1=5.889814880371959, mse=56516.8584161422\n",
            "Iteration: 27, B1=5.8898164067533125, mse=56516.858415941315\n",
            "Iteration: 28, B1=5.889817512567759, mse=56516.858415835886\n",
            "Iteration: 29, B1=5.889818313694939, mse=56516.858415780545\n",
            "Iteration: 30, B1=5.889818894085945, mse=56516.858415751485\n",
            "Iteration: 31, B1=5.889819314560656, mse=56516.85841573626\n",
            "Iteration: 32, B1=5.88981961918113, mse=56516.85841572824\n",
            "Iteration: 33, B1=5.889819839868915, mse=56516.85841572405\n",
            "Iteration: 34, B1=5.889819999750153, mse=56516.85841572186\n",
            "Iteration: 35, B1=5.889820115578994, mse=56516.85841572069\n",
            "Iteration: 36, B1=5.889820199493283, mse=56516.858415720075\n",
            "Iteration: 37, B1=5.889820260286499, mse=56516.85841571975\n",
            "Iteration: 38, B1=5.889820304329239, mse=56516.8584157196\n",
            "Iteration: 39, B1=5.889820336236795, mse=56516.85841571949\n",
            "Iteration: 40, B1=5.8898203593527985, mse=56516.85841571945\n",
            "Iteration: 41, B1=5.889820376099603, mse=56516.858415719435\n",
            "Iteration: 42, B1=5.889820388232128, mse=56516.85841571943\n",
            "Iteration: 43, B1=5.889820397021753, mse=56516.85841571943\n",
            "Iteration: 44, B1=5.889820403389555, mse=56516.85841571941\n",
            "Iteration: 45, B1=5.889820408002824, mse=56516.8584157194\n",
            "Iteration: 46, B1=5.8898204113449895, mse=56516.8584157194\n",
            "Iteration: 47, B1=5.889820413766282, mse=56516.85841571941\n",
            "Iteration: 48, B1=5.889820415520431, mse=56516.85841571941\n",
            "Iteration: 49, B1=5.889820416791255, mse=56516.8584157194\n"
          ]
        }
      ]
    },
    {
      "cell_type": "markdown",
      "source": [
        "Таким образом, методом GD коэффициент **B1** получается тоже **5.890**"
      ],
      "metadata": {
        "id": "oY255iuzzsX1"
      }
    },
    {
      "cell_type": "markdown",
      "source": [
        "**Задание 3***: Произвести вычисления как в пункте 2, но с вычислением intercept. Учесть, что изменение коэффициентов должно производиться\n",
        "на каждом шаге одновременно (то есть изменение одного коэффициента не должно влиять на изменение другого во время одной итерации)."
      ],
      "metadata": {
        "id": "qOuyqvDbUj03"
      }
    },
    {
      "cell_type": "markdown",
      "source": [
        "**Решение:**"
      ],
      "metadata": {
        "id": "3nWAH69mUkvc"
      }
    },
    {
      "cell_type": "code",
      "source": [
        "B0 = 0.1"
      ],
      "metadata": {
        "id": "H7b5rWO9UkBk"
      },
      "execution_count": 23,
      "outputs": []
    },
    {
      "cell_type": "code",
      "source": [
        "# for i in range(100):\n",
        "#   # B0 = B0 - alpha * (2 / n) * np.sum(B1 * zp + B0 - ks),\n",
        "#   B1 =  B1 - alpha * (2 / n) * np.sum((B1 * zp + B0 - ks) * zp)\n",
        "#   if i % 10 == 0:\n",
        "#     print(f'Iteration: {i}, B0={B0}, B1={B1}, mse={mse(B1)}')\n",
        "B0 = 0.1\n",
        "B1 = 0.1\n",
        "all_mse = []\n",
        "for i in range(5000000):\n",
        "    predicted = B0 + B1 * zp\n",
        "    residuals = ks - predicted\n",
        "    all_mse.append(np.sum(residuals**2))\n",
        "    B0, B1 = B0 - alpha * ((2/n) * np.sum(residuals) * -1), B1 - alpha * ((2/n) * residuals.dot(zp) * -1)\n",
        "    if i % 100000 == 0:\n",
        "      print(f'Iteration: {i}, B0={B0}, B1={B1}, mse={all_mse[i]}')"
      ],
      "metadata": {
        "colab": {
          "base_uri": "https://localhost:8080/"
        },
        "id": "6WyL98i5UlmP",
        "outputId": "5974c80c-a68f-4241-9ea3-bbae7a3884f7"
      },
      "execution_count": 24,
      "outputs": [
        {
          "output_type": "stream",
          "name": "stdout",
          "text": [
            "Iteration: 0, B0=0.1139932, B1=1.6950780000000003, mse=5181963.839999999\n",
            "Iteration: 100000, B0=176.8178756872003, B1=4.588422873669245, mse=246028.4307165328\n",
            "Iteration: 200000, B0=283.1956881772298, B1=3.805435141410038, mse=130442.31858939507\n",
            "Iteration: 300000, B0=347.24756959921285, B1=3.333984975180734, mse=88537.1755817341\n",
            "Iteration: 400000, B0=385.81429152799836, B1=3.0501168504576253, mse=73344.6842159825\n",
            "Iteration: 500000, B0=409.0359675710964, B1=2.8791950478876815, mse=67836.72559008695\n",
            "Iteration: 600000, B0=423.0181317603773, B1=2.77628013758468, mse=65839.84387436202\n",
            "Iteration: 700000, B0=431.43702947702633, B1=2.7143133281816474, mse=65115.8848075947\n",
            "Iteration: 800000, B0=436.5061902881824, B1=2.6770020634068015, mse=64853.41721813871\n",
            "Iteration: 900000, B0=439.55841781180436, B1=2.6545363193656377, mse=64758.26096044827\n",
            "Iteration: 1000000, B0=441.396215664944, B1=2.6410093146294247, mse=64723.76255477298\n",
            "Iteration: 1100000, B0=442.502784858385, B1=2.632864476123355, mse=64711.2553374546\n",
            "Iteration: 1200000, B0=443.1690688992334, B1=2.6279603310016144, mse=64706.720910950346\n",
            "Iteration: 1300000, B0=443.57024979758313, B1=2.625007462217497, mse=64705.07697823536\n",
            "Iteration: 1400000, B0=443.8118076067508, B1=2.62322948994318, mse=64704.480978990774\n",
            "Iteration: 1500000, B0=443.95725365219454, B1=2.6221589427433236, mse=64704.264902568495\n",
            "Iteration: 1600000, B0=444.04482917793496, B1=2.62151434815451, mse=64704.18656518683\n",
            "Iteration: 1700000, B0=444.0975598842706, B1=2.6211262268422955, mse=64704.15816437706\n",
            "Iteration: 1800000, B0=444.1293099350496, B1=2.620892532431058, mse=64704.147867811436\n",
            "Iteration: 1900000, B0=444.1484271780215, B1=2.6207518210705665, mse=64704.14413484513\n",
            "Iteration: 2000000, B0=444.1599379935946, B1=2.620667096378724, mse=64704.14278147768\n",
            "Iteration: 2100000, B0=444.16686885047375, B1=2.620616082207786, mse=64704.14229082133\n",
            "Iteration: 2200000, B0=444.1710420367028, B1=2.6205853657120683, mse=64704.14211293643\n",
            "Iteration: 2300000, B0=444.17355478276994, B1=2.6205668707900656, mse=64704.142048445196\n",
            "Iteration: 2400000, B0=444.17506774970946, B1=2.6205557346844697, mse=64704.14202506421\n",
            "Iteration: 2500000, B0=444.1759787327175, B1=2.6205490294467615, mse=64704.142016587604\n",
            "Iteration: 2600000, B0=444.176527251001, B1=2.6205449921096813, mse=64704.14201351442\n",
            "Iteration: 2700000, B0=444.17685752314003, B1=2.620542561160716, mse=64704.14201240025\n",
            "Iteration: 2800000, B0=444.1770563855869, B1=2.620541097445185, mse=64704.14201199632\n",
            "Iteration: 2900000, B0=444.1771761240292, B1=2.6205402161173104, mse=64704.14201184991\n",
            "Iteration: 3000000, B0=444.17724822057295, B1=2.6205396854548724, mse=64704.142011796735\n",
            "Iteration: 3100000, B0=444.17729163112165, B1=2.6205393659340417, mse=64704.14201177753\n",
            "Iteration: 3200000, B0=444.1773177693489, B1=2.6205391735451316, mse=64704.14201177054\n",
            "Iteration: 3300000, B0=444.1773335076172, B1=2.6205390577045193, mse=64704.14201176804\n",
            "Iteration: 3400000, B0=444.17734298389547, B1=2.6205389879549217, mse=64704.14201176711\n",
            "Iteration: 3500000, B0=444.1773486897232, B1=2.6205389459575072, mse=64704.1420117668\n",
            "Iteration: 3600000, B0=444.1773521252969, B1=2.6205389206701657, mse=64704.142011766635\n",
            "Iteration: 3700000, B0=444.1773541939168, B1=2.6205389054442074, mse=64704.14201176665\n",
            "Iteration: 3800000, B0=444.1773554394634, B1=2.620538896276435, mse=64704.142011766555\n",
            "Iteration: 3900000, B0=444.1773561894293, B1=2.620538890756354, mse=64704.14201176658\n",
            "Iteration: 4000000, B0=444.17735664098626, B1=2.6205388874326956, mse=64704.14201176659\n",
            "Iteration: 4100000, B0=444.17735691288465, B1=2.620538885431403, mse=64704.14201176659\n",
            "Iteration: 4200000, B0=444.17735707657215, B1=2.62053888422659, mse=64704.142011766606\n",
            "Iteration: 4300000, B0=444.1773571751559, B1=2.62053888350097, mse=64704.1420117666\n",
            "Iteration: 4400000, B0=444.17735723442325, B1=2.6205388830647363, mse=64704.1420117666\n",
            "Iteration: 4500000, B0=444.1773572701258, B1=2.62053888280195, mse=64704.1420117666\n",
            "Iteration: 4600000, B0=444.1773572915045, B1=2.6205388826445932, mse=64704.142011766584\n",
            "Iteration: 4700000, B0=444.1773573044874, B1=2.6205388825490337, mse=64704.142011766584\n",
            "Iteration: 4800000, B0=444.17735731170404, B1=2.6205388824959153, mse=64704.14201176662\n",
            "Iteration: 4900000, B0=444.1773573173884, B1=2.6205388824540767, mse=64704.14201176657\n"
          ]
        }
      ]
    },
    {
      "cell_type": "markdown",
      "source": [
        "Таким образом, методом градиентного спуска мы нашли *те же самые* коэффициенты линейной регрессии: **B0 = 444.177** и **B1 = 2.621**. Получившаяся зависимость:\n",
        " ***y = 444.177 + x * 2.621***"
      ],
      "metadata": {
        "id": "wbOdbwsixkqg"
      }
    }
  ]
}