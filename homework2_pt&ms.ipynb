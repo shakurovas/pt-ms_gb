{
  "nbformat": 4,
  "nbformat_minor": 0,
  "metadata": {
    "colab": {
      "name": "homework2_pt&ms.ipynb",
      "provenance": [],
      "authorship_tag": "ABX9TyOqAe+X35ejdaKXyFENFVCD",
      "include_colab_link": true
    },
    "kernelspec": {
      "name": "python3",
      "display_name": "Python 3"
    },
    "language_info": {
      "name": "python"
    }
  },
  "cells": [
    {
      "cell_type": "markdown",
      "metadata": {
        "id": "view-in-github",
        "colab_type": "text"
      },
      "source": [
        "<a href=\"https://colab.research.google.com/github/shakurovas/pt-ms_gb/blob/master/homework2_pt%26ms.ipynb\" target=\"_parent\"><img src=\"https://colab.research.google.com/assets/colab-badge.svg\" alt=\"Open In Colab\"/></a>"
      ]
    },
    {
      "cell_type": "code",
      "execution_count": 11,
      "metadata": {
        "id": "am-RW6-QpKSy"
      },
      "outputs": [],
      "source": [
        "from math import factorial as fact, e"
      ]
    },
    {
      "cell_type": "code",
      "source": [
        "def combinations_without_repetitions(n, m): # n элементов из m (сочетания без повторений)\n",
        "  return fact(m) / (fact(n) * fact(m-n))"
      ],
      "metadata": {
        "id": "0I0DwaZnYLct"
      },
      "execution_count": 2,
      "outputs": []
    },
    {
      "cell_type": "code",
      "source": [
        "def bernoulli(p, n, k): # p - вероятность наступления события в одном испытании, n - число испытаний, k - какое количество раз должно произойти событие по условию\n",
        "  return combinations_without_repetitions(k, n) * p ** k * (1 - p) ** (n - k)"
      ],
      "metadata": {
        "id": "_KmhtITpciWz"
      },
      "execution_count": 14,
      "outputs": []
    },
    {
      "cell_type": "code",
      "source": [
        "def poisson(p, n, m): # p - вероятность наступления события в одном испытании, n - число испытаний, m - какое количество раз должно произойти событие по условию\n",
        "  return (n * p) ** m / fact(m) * e ** (- n * p)"
      ],
      "metadata": {
        "id": "O9Mf6VcSdGpi"
      },
      "execution_count": 15,
      "outputs": []
    },
    {
      "cell_type": "markdown",
      "source": [
        "**Задание 1**: Вероятность того, что стрелок попадет в мишень, выстрелив один раз, равна 0.8. Стрелок выстрелил 100 раз. Найдите вероятность того, что стрелок попадет в цель ровно 85 раз."
      ],
      "metadata": {
        "id": "NX2uhve1XS7X"
      }
    },
    {
      "cell_type": "markdown",
      "source": [
        "**Решение:**"
      ],
      "metadata": {
        "id": "wKco9RWBXViy"
      }
    },
    {
      "cell_type": "markdown",
      "source": [
        "Т. к. вероятность наступления события (попадение в цель) достаточно большая (*0.8* > 0.1) и число испытаний сравнительно небольшое (*100*), то используем формулу Бернулли:"
      ],
      "metadata": {
        "id": "IXkQ14zGZZ3g"
      }
    },
    {
      "cell_type": "code",
      "source": [
        "P_1 = bernoulli(0.8, 100, 85)\n",
        "print(P_1)"
      ],
      "metadata": {
        "colab": {
          "base_uri": "https://localhost:8080/"
        },
        "id": "nz4shUIYXqIX",
        "outputId": "b8e5881d-5c24-4c15-cdc4-2e7ab81dcac1"
      },
      "execution_count": 18,
      "outputs": [
        {
          "output_type": "stream",
          "name": "stdout",
          "text": [
            "0.048061793700746355\n"
          ]
        }
      ]
    },
    {
      "cell_type": "markdown",
      "source": [
        "**Задание 2**: Вероятность того, что лампочка перегорит в течение первого дня эксплуатации, равна 0.0004. В жилом комплексе после ремонта в один день включили 5000 новых лампочек. а) Какова вероятность, что ни одна из них не перегорит в первый день? б) Какова вероятность, что перегорят ровно две?"
      ],
      "metadata": {
        "id": "2n8YZggMZsrn"
      }
    },
    {
      "cell_type": "markdown",
      "source": [
        "**Решение (a):**"
      ],
      "metadata": {
        "id": "C6Amifl-Z0Jk"
      }
    },
    {
      "cell_type": "markdown",
      "source": [
        "Так как вероятность наступления события (перегорание лампочки) очень маленькая (*0.0004* < 0.1) и число испытаний большое (*5000*), то используем формулу Пуассона:"
      ],
      "metadata": {
        "id": "5pCJUcxKaYbd"
      }
    },
    {
      "cell_type": "code",
      "source": [
        "P_2a = poisson(0.0004, 5000, 0)\n",
        "print(P_2a)"
      ],
      "metadata": {
        "colab": {
          "base_uri": "https://localhost:8080/"
        },
        "id": "jMkK7z68axA-",
        "outputId": "b4857479-9561-446a-8940-69aba268fcf0"
      },
      "execution_count": 16,
      "outputs": [
        {
          "output_type": "stream",
          "name": "stdout",
          "text": [
            "0.1353352832366127\n"
          ]
        }
      ]
    },
    {
      "cell_type": "markdown",
      "source": [
        "**Решение (б):**"
      ],
      "metadata": {
        "id": "3pS5tAv6Z2a3"
      }
    },
    {
      "cell_type": "code",
      "source": [
        "P_2b = poisson(0.0004, 5000, 2)\n",
        "print(P_2b)"
      ],
      "metadata": {
        "colab": {
          "base_uri": "https://localhost:8080/"
        },
        "id": "ouDffkJlZ2jq",
        "outputId": "1f889b52-a47d-4307-e364-4841ad6ba233"
      },
      "execution_count": 17,
      "outputs": [
        {
          "output_type": "stream",
          "name": "stdout",
          "text": [
            "0.2706705664732254\n"
          ]
        }
      ]
    },
    {
      "cell_type": "markdown",
      "source": [
        "**Задание 3**: Монету подбросили 144 раза. Какова вероятность, что орел выпадет ровно 70 раз?"
      ],
      "metadata": {
        "id": "b6xIBP1hcEZc"
      }
    },
    {
      "cell_type": "markdown",
      "source": [
        "**Решение:**"
      ],
      "metadata": {
        "id": "YSG3FDzXcIbQ"
      }
    },
    {
      "cell_type": "markdown",
      "source": [
        "Т. к. вероятность наступления события (выпадение орла) большая (*0.5* > 0.1) и число испытаний сравнительно небольшое (*144*), то используем формулу Бернулли:"
      ],
      "metadata": {
        "id": "bNXxe-cFcKcE"
      }
    },
    {
      "cell_type": "code",
      "source": [
        "P_3 = bernoulli(0.5, 144, 70)\n",
        "print(P_3)"
      ],
      "metadata": {
        "colab": {
          "base_uri": "https://localhost:8080/"
        },
        "id": "VNDdamwccJmq",
        "outputId": "ebe4c614-e561-4d90-ed14-ffb96ca41b14"
      },
      "execution_count": 19,
      "outputs": [
        {
          "output_type": "stream",
          "name": "stdout",
          "text": [
            "0.06281178035144776\n"
          ]
        }
      ]
    },
    {
      "cell_type": "markdown",
      "source": [
        "**Задание 4**: В первом ящике находится 10 мячей, из которых 7 - белые. Во втором ящике - 11 мячей, из которых 9 белых. Из каждого ящика вытаскивают случайным образом по два мяча. а) Какова вероятность того, что все мячи белые? б) Какова вероятность того, что ровно два мяча белые? в) Какова вероятность того, что хотя бы один мяч белый?"
      ],
      "metadata": {
        "id": "uvmNUkuLeK1Y"
      }
    },
    {
      "cell_type": "markdown",
      "source": [
        "**Решение (а):**"
      ],
      "metadata": {
        "id": "Tze1W9hAeTju"
      }
    },
    {
      "cell_type": "markdown",
      "source": [
        "Т. к. вероятности наступления событий (достаём белый мяч) достаточно большие и число испытаний сравнительно небольшое, то используем формулу Бернулли:"
      ],
      "metadata": {
        "id": "YqSs6ieXeqRY"
      }
    },
    {
      "cell_type": "code",
      "source": [
        "P_4a = bernoulli(7/10, 2, 2) * bernoulli(9/11, 2, 2)\n",
        "print(P_4a)"
      ],
      "metadata": {
        "colab": {
          "base_uri": "https://localhost:8080/"
        },
        "id": "uVF962cOee45",
        "outputId": "2e5703c6-3137-4b79-e926-9f9a1c6dc760"
      },
      "execution_count": 23,
      "outputs": [
        {
          "output_type": "stream",
          "name": "stdout",
          "text": [
            "0.32801652892561983\n"
          ]
        }
      ]
    },
    {
      "cell_type": "markdown",
      "source": [
        "**Решение (б):**"
      ],
      "metadata": {
        "id": "o6Mf6yExefcq"
      }
    },
    {
      "cell_type": "markdown",
      "source": [
        "Ровно 2 мяча, которые мы достали, белые, могут быть в 3х случаях:\n",
        "1) достали из первого ящика оба белых, из второго ни одного белого\n",
        "2) достали из второго ящика оба белых, из первого ни одного белого\n",
        "3) из каждого ящика достали по одному белому и по одному чёрному"
      ],
      "metadata": {
        "id": "fcyQksdFgLWV"
      }
    },
    {
      "cell_type": "code",
      "source": [
        "P_4b = bernoulli(7/10, 2, 2) * bernoulli(9/11, 2, 0) + bernoulli(7/10, 2, 0) * bernoulli(9/11, 2, 2) + bernoulli(7/10, 2, 1) * bernoulli(9/11, 2, 1)\n",
        "print(P_4b)"
      ],
      "metadata": {
        "colab": {
          "base_uri": "https://localhost:8080/"
        },
        "id": "v_wx_n-VehOU",
        "outputId": "837c8659-58dc-4036-a513-47307d6ca9c7"
      },
      "execution_count": 25,
      "outputs": [
        {
          "output_type": "stream",
          "name": "stdout",
          "text": [
            "0.20140495867768599\n"
          ]
        }
      ]
    },
    {
      "cell_type": "markdown",
      "source": [
        "**Решение (в):**"
      ],
      "metadata": {
        "id": "5gSqrtipehVc"
      }
    },
    {
      "cell_type": "markdown",
      "source": [
        "Хотя бы один мяч белый = исключаем вариант, когда все мячи чёрные:"
      ],
      "metadata": {
        "id": "CgE9LJwife3-"
      }
    },
    {
      "cell_type": "code",
      "source": [
        "P_4с = 1 - bernoulli(7/10, 2, 0) * bernoulli(9/11, 2, 0)\n",
        "print(P_4с)"
      ],
      "metadata": {
        "colab": {
          "base_uri": "https://localhost:8080/"
        },
        "id": "6Nw8OXb7ejRX",
        "outputId": "b4df16b9-e04b-40d8-d16c-a5a63b80ef1a"
      },
      "execution_count": 24,
      "outputs": [
        {
          "output_type": "stream",
          "name": "stdout",
          "text": [
            "0.9970247933884298\n"
          ]
        }
      ]
    }
  ]
}