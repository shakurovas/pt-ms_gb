{
  "nbformat": 4,
  "nbformat_minor": 0,
  "metadata": {
    "colab": {
      "name": "homework3_pt&ms.ipynb",
      "provenance": [],
      "collapsed_sections": [],
      "authorship_tag": "ABX9TyM9nwfjpgWQNKQa8MO9RRnw",
      "include_colab_link": true
    },
    "kernelspec": {
      "name": "python3",
      "display_name": "Python 3"
    },
    "language_info": {
      "name": "python"
    }
  },
  "cells": [
    {
      "cell_type": "markdown",
      "metadata": {
        "id": "view-in-github",
        "colab_type": "text"
      },
      "source": [
        "<a href=\"https://colab.research.google.com/github/shakurovas/pt-ms_gb/blob/master/homework3_pt%26ms.ipynb\" target=\"_parent\"><img src=\"https://colab.research.google.com/assets/colab-badge.svg\" alt=\"Open In Colab\"/></a>"
      ]
    },
    {
      "cell_type": "code",
      "source": [
        "import numpy as np\n",
        "from math import factorial as fact"
      ],
      "metadata": {
        "id": "cum-7hWlTere"
      },
      "execution_count": null,
      "outputs": []
    },
    {
      "cell_type": "code",
      "source": [
        "def combinations_without_repetitions(n, m): # n элементов из m (сочетания без повторений)\n",
        "  return fact(m) / (fact(n) * fact(m-n))"
      ],
      "metadata": {
        "id": "AKka7cQxbnid"
      },
      "execution_count": null,
      "outputs": []
    },
    {
      "cell_type": "markdown",
      "source": [
        "**Задание 1:** Даны значения зарплат из выборки выпускников: 100, 80, 75, 77, 89, 33, 45, 25, 65, 17, 30, 24, 57, 55, 70, 75, 65, 84, 90, 150. Посчитать (желательно без использования статистических методов наподобие std, var, mean) среднее арифметическое, среднее квадратичное отклонение, смещенную и несмещенную оценки дисперсий для данной выборки."
      ],
      "metadata": {
        "id": "WhgEbt4eTTat"
      }
    },
    {
      "cell_type": "markdown",
      "source": [
        "**Решение:**"
      ],
      "metadata": {
        "id": "aSCYZAQ2TTop"
      }
    },
    {
      "cell_type": "code",
      "source": [
        "salary_list = np.array([100, 80, 75, 77, 89, 33, 45, 25, 65, 17, 30, 24, 57, 55, 70, 75, 65, 84, 90, 150])"
      ],
      "metadata": {
        "id": "LTV_C-I5TT94"
      },
      "execution_count": null,
      "outputs": []
    },
    {
      "cell_type": "markdown",
      "source": [
        "Среднее арифметическое:"
      ],
      "metadata": {
        "id": "3ymUBr5EUGt2"
      }
    },
    {
      "cell_type": "code",
      "source": [
        "avg = np.sum(salary_list) / len(salary_list)\n",
        "print(avg)"
      ],
      "metadata": {
        "colab": {
          "base_uri": "https://localhost:8080/"
        },
        "id": "yZjWgVQwToU8",
        "outputId": "07f5f91b-68d2-4442-e720-17e329f59e0f"
      },
      "execution_count": null,
      "outputs": [
        {
          "output_type": "stream",
          "name": "stdout",
          "text": [
            "65.3\n"
          ]
        }
      ]
    },
    {
      "cell_type": "markdown",
      "source": [
        "Проверим:"
      ],
      "metadata": {
        "id": "CgkSEwV5T2o-"
      }
    },
    {
      "cell_type": "code",
      "source": [
        "np.mean(salary_list)"
      ],
      "metadata": {
        "colab": {
          "base_uri": "https://localhost:8080/"
        },
        "id": "2rpIIjMGT2yG",
        "outputId": "c9fa398a-8c99-4ca4-bf87-97a3b8e85a01"
      },
      "execution_count": null,
      "outputs": [
        {
          "output_type": "execute_result",
          "data": {
            "text/plain": [
              "65.3"
            ]
          },
          "metadata": {},
          "execution_count": 14
        }
      ]
    },
    {
      "cell_type": "markdown",
      "source": [
        "Среднее квадратичное отклонение:"
      ],
      "metadata": {
        "id": "JlF63fjvUJ20"
      }
    },
    {
      "cell_type": "code",
      "source": [
        "sum = 0\n",
        "for i in range(len(salary_list)):\n",
        "  sum += (salary_list[i] - avg) ** 2\n",
        "S = (sum / (len(salary_list) - 1)) ** (1/2)\n",
        "print(S)"
      ],
      "metadata": {
        "colab": {
          "base_uri": "https://localhost:8080/"
        },
        "id": "Udu-a6T4UMA4",
        "outputId": "554c3e73-c436-4677-84d8-579dc1799ee3"
      },
      "execution_count": null,
      "outputs": [
        {
          "output_type": "stream",
          "name": "stdout",
          "text": [
            "31.624607341019814\n"
          ]
        }
      ]
    },
    {
      "cell_type": "markdown",
      "source": [
        "Проверим:"
      ],
      "metadata": {
        "id": "71PkRIA2UMJY"
      }
    },
    {
      "cell_type": "code",
      "source": [
        "np.std(salary_list, ddof=1)"
      ],
      "metadata": {
        "colab": {
          "base_uri": "https://localhost:8080/"
        },
        "id": "BWGzpgmfUMSG",
        "outputId": "3ede308c-9ddf-45af-d823-bdcfc6ba305f"
      },
      "execution_count": null,
      "outputs": [
        {
          "output_type": "execute_result",
          "data": {
            "text/plain": [
              "31.624607341019814"
            ]
          },
          "metadata": {},
          "execution_count": 20
        }
      ]
    },
    {
      "cell_type": "markdown",
      "source": [
        "Смещённая оценка дисперсии:"
      ],
      "metadata": {
        "id": "nu65eortV9rJ"
      }
    },
    {
      "cell_type": "code",
      "source": [
        "sum = 0\n",
        "for i in range(len(salary_list)):\n",
        "  sum += (salary_list[i] - avg) ** 2\n",
        "S_2 = sum / len(salary_list)\n",
        "print(S_2)"
      ],
      "metadata": {
        "colab": {
          "base_uri": "https://localhost:8080/"
        },
        "id": "ooLxczi2WC0X",
        "outputId": "7d0d74b3-c990-4cbe-b134-6b80b08e66e2"
      },
      "execution_count": null,
      "outputs": [
        {
          "output_type": "stream",
          "name": "stdout",
          "text": [
            "950.11\n"
          ]
        }
      ]
    },
    {
      "cell_type": "markdown",
      "source": [
        "Проверим:"
      ],
      "metadata": {
        "id": "1oG-s1bVWC-Q"
      }
    },
    {
      "cell_type": "code",
      "source": [
        "np.var(salary_list)"
      ],
      "metadata": {
        "colab": {
          "base_uri": "https://localhost:8080/"
        },
        "id": "YFo-mjqxWDI1",
        "outputId": "3d89f46f-3c11-4f02-e356-f2d3370174da"
      },
      "execution_count": null,
      "outputs": [
        {
          "output_type": "execute_result",
          "data": {
            "text/plain": [
              "950.11"
            ]
          },
          "metadata": {},
          "execution_count": 23
        }
      ]
    },
    {
      "cell_type": "markdown",
      "source": [
        "Несмещённая оценка дисперсии:"
      ],
      "metadata": {
        "id": "cs9fZmg_WwyU"
      }
    },
    {
      "cell_type": "code",
      "source": [
        "sum = 0\n",
        "for i in range(len(salary_list)):\n",
        "  sum += (salary_list[i] - avg) ** 2\n",
        "S_2_2 = sum / (len(salary_list) - 1)\n",
        "print(S_2_2)"
      ],
      "metadata": {
        "colab": {
          "base_uri": "https://localhost:8080/"
        },
        "id": "HqoZiFbUWy5K",
        "outputId": "31c85a6d-b561-47c3-9c1a-e9c0295fdefe"
      },
      "execution_count": null,
      "outputs": [
        {
          "output_type": "stream",
          "name": "stdout",
          "text": [
            "1000.1157894736842\n"
          ]
        }
      ]
    },
    {
      "cell_type": "markdown",
      "source": [
        "Проверим:"
      ],
      "metadata": {
        "id": "jskUr-fDWzBh"
      }
    },
    {
      "cell_type": "code",
      "source": [
        "np.var(salary_list, ddof=1)"
      ],
      "metadata": {
        "colab": {
          "base_uri": "https://localhost:8080/"
        },
        "id": "aokcCXBbWzJl",
        "outputId": "81475a10-3e18-40bb-a5f2-34265d108223"
      },
      "execution_count": null,
      "outputs": [
        {
          "output_type": "execute_result",
          "data": {
            "text/plain": [
              "1000.1157894736842"
            ]
          },
          "metadata": {},
          "execution_count": 24
        }
      ]
    },
    {
      "cell_type": "markdown",
      "source": [
        "**Задание 2:** В первом ящике находится 8 мячей, из которых 5 - белые. Во втором ящике - 12 мячей, из которых 5 белых. Из первого ящика вытаскивают случайным образом два мяча, из второго - 4. Какова вероятность того, что 3 мяча белые?"
      ],
      "metadata": {
        "id": "YL30c0nQXMG9"
      }
    },
    {
      "cell_type": "markdown",
      "source": [
        "**Решение:**"
      ],
      "metadata": {
        "id": "lXg_3SFlXSE1"
      }
    },
    {
      "cell_type": "markdown",
      "source": [
        "Вероятность того, что достанут оба белых мяча из первого ящика и при этом только один из тех мячей, которые достали из второго ящика, окажется белым:"
      ],
      "metadata": {
        "id": "19mXZDa7XVF2"
      }
    },
    {
      "cell_type": "code",
      "source": [
        "P_2_1 = combinations_without_repetitions(2, 5) * combinations_without_repetitions(0, 3) / combinations_without_repetitions(2, 8) * combinations_without_repetitions(1, 5) * combinations_without_repetitions(3, 7) / combinations_without_repetitions(4, 12)\n",
        "print(P_2_1)"
      ],
      "metadata": {
        "colab": {
          "base_uri": "https://localhost:8080/"
        },
        "id": "VZ1iR-HiXSNl",
        "outputId": "9ea46145-fe60-48b8-e75a-cf920ad0e7dc"
      },
      "execution_count": null,
      "outputs": [
        {
          "output_type": "stream",
          "name": "stdout",
          "text": [
            "0.12626262626262627\n"
          ]
        }
      ]
    },
    {
      "cell_type": "markdown",
      "source": [
        "Вероятность того, что достанут один белый мяч из первого ящика и при этом только два из тех мячей, которые достали из второго ящика, окажутся белыми:"
      ],
      "metadata": {
        "id": "3E--YBUeL9mI"
      }
    },
    {
      "cell_type": "code",
      "source": [
        "P_2_2 = combinations_without_repetitions(1, 5) * combinations_without_repetitions(1, 3) / combinations_without_repetitions(2, 8) * combinations_without_repetitions(2, 5) * combinations_without_repetitions(2, 7) / combinations_without_repetitions(4, 12)\n",
        "print(P_2_2)"
      ],
      "metadata": {
        "colab": {
          "base_uri": "https://localhost:8080/"
        },
        "id": "St21v6v0L9zb",
        "outputId": "4138c15c-d813-46d4-b03f-1e28f28a1eb7"
      },
      "execution_count": null,
      "outputs": [
        {
          "output_type": "stream",
          "name": "stdout",
          "text": [
            "0.22727272727272724\n"
          ]
        }
      ]
    },
    {
      "cell_type": "markdown",
      "source": [
        "Вероятность того, что достанут ни одного белого мяча из первого ящика и при этом три из тех мячей, которые достали из второго ящика, окажутся белыми:"
      ],
      "metadata": {
        "id": "kcyFso1FMSPE"
      }
    },
    {
      "cell_type": "code",
      "source": [
        "P_2_3 = combinations_without_repetitions(0, 5) * combinations_without_repetitions(2, 3) / combinations_without_repetitions(2, 8) * combinations_without_repetitions(3, 5) * combinations_without_repetitions(1, 7) / combinations_without_repetitions(4, 12)\n",
        "print(P_2_3)"
      ],
      "metadata": {
        "colab": {
          "base_uri": "https://localhost:8080/"
        },
        "id": "fAXI4eKuMSYP",
        "outputId": "fc0b9cc8-4e3a-49e4-8ff9-2b3e6152e87c"
      },
      "execution_count": null,
      "outputs": [
        {
          "output_type": "stream",
          "name": "stdout",
          "text": [
            "0.015151515151515152\n"
          ]
        }
      ]
    },
    {
      "cell_type": "markdown",
      "source": [
        "Итого вероятность достать каким-либо из этих вариантов 6 шаров (2 из первого ящика, 4 из второго) так, чтобы среди них оказались ровно 3 белых, равняется:"
      ],
      "metadata": {
        "id": "yF7WBBOaMkUy"
      }
    },
    {
      "cell_type": "code",
      "source": [
        "P_2 = P_2_1 + P_2_2 + P_2_3\n",
        "print(P_2) "
      ],
      "metadata": {
        "colab": {
          "base_uri": "https://localhost:8080/"
        },
        "id": "UDtsabbuMkbo",
        "outputId": "a1fd8d8c-2c48-44bb-ef57-aea3ed7b15a1"
      },
      "execution_count": null,
      "outputs": [
        {
          "output_type": "stream",
          "name": "stdout",
          "text": [
            "0.3686868686868686\n"
          ]
        }
      ]
    },
    {
      "cell_type": "markdown",
      "source": [
        "**Задание 3:** На соревновании по биатлону один из трех спортсменов стреляет и попадает в мишень. Вероятность попадания для первого спортсмена равна 0.9, для второго — 0.8, для третьего — 0.6. Найти вероятность того, что выстрел произведен: a) первым спортсменом б) вторым спортсменом в) третьим спортсменом."
      ],
      "metadata": {
        "id": "kYxkiCTyXzlh"
      }
    },
    {
      "cell_type": "markdown",
      "source": [
        "**Решение (а):**"
      ],
      "metadata": {
        "id": "MrKU7YmTXzwq"
      }
    },
    {
      "cell_type": "markdown",
      "source": [
        "Используем формулу Байеса: \n",
        "![байеса формула.gif](data:image/gif;base64,R0lGODlhmAAvAHcAMSH+GlNvZnR3YXJlOiBNaWNyb3NvZnQgT2ZmaWNlACH5BAEAAAAALAMABQCRACcAggAAAAAAAAoICQkICAgHBwsKCgECAwECAwP/CLrc/jDKF6ptgdnq8sSb94kdQH5oqkqkeJrL+07tGHHwqu9qnWMxysp3K7p4yCRQo5AxS6nT7Ck8Kq8838wqRBEh09wXS6Ztgp1L0Xumrcfl+BJK/dFZummoLu83wXdhUl09hHZhflh6gU2DNmlbhnCJZIJzh5eAgE6Zk5RKbXQhjn9mOE+RjThtiJ+JrWilSGp3biChkriyn7A/vXh2fJqMhrKcrrAev2smAsPPl6lz0q4sp0l7A32kwpPL1X7act6EluDnDeJxe8WqiFKj3+gfBAXrXsTt8/tXvcfBwkbEG0iwoMGDCBOqMQdQCzcT8fhJtEWBy64x8iZqdFeCb8ioaBtDlsngKZ/Ikzt0+YuFsmWhho8yVvsY8I/MWRxoRbnmEtMuED97CqUoxgjLoUhrKTMaNKlTLW9qOhXKDiCaklNbLqqo82ZWdFtBHv3aM2wdrGQ3MjyKNq1EXbFYLXRL1yq0ullX4qXbyuuEBAA7)"
      ],
      "metadata": {
        "id": "KH6KEXjfE4Ju"
      }
    },
    {
      "cell_type": "markdown",
      "source": [
        "Найдём вероятность (P(A)) того, про произойдёт событие А (выстрел попал в мишень):"
      ],
      "metadata": {
        "id": "VDlKY_X_Fa8O"
      }
    },
    {
      "cell_type": "code",
      "source": [
        "P_A = 1 / 3 * 0.9 + 1 / 3 * 0.8 + 1 / 3 * 0.6\n",
        "print(P_A)"
      ],
      "metadata": {
        "colab": {
          "base_uri": "https://localhost:8080/"
        },
        "id": "7EbQSvEhFoyC",
        "outputId": "3a0a69e0-07e3-4d82-8912-9fb657213a62"
      },
      "execution_count": null,
      "outputs": [
        {
          "output_type": "stream",
          "name": "stdout",
          "text": [
            "0.7666666666666666\n"
          ]
        }
      ]
    },
    {
      "cell_type": "markdown",
      "source": [
        "Теперь подставим 1/3 (вероятность выбора спортсмена) и вероятности его попадания в цель:"
      ],
      "metadata": {
        "id": "ps1kKEILFuB0"
      }
    },
    {
      "cell_type": "code",
      "source": [
        "P_3a = 1 / 3 * 0.9 / P_A\n",
        "print(P_3a)"
      ],
      "metadata": {
        "colab": {
          "base_uri": "https://localhost:8080/"
        },
        "id": "48SYhUA4GEjn",
        "outputId": "6bd4eae4-748e-4933-cd2f-abd11cf952d9"
      },
      "execution_count": null,
      "outputs": [
        {
          "output_type": "stream",
          "name": "stdout",
          "text": [
            "0.391304347826087\n"
          ]
        }
      ]
    },
    {
      "cell_type": "markdown",
      "source": [
        "**Решение (б):**"
      ],
      "metadata": {
        "id": "ucVXrgEsX7T1"
      }
    },
    {
      "cell_type": "code",
      "source": [
        "P_3b = 1 / 3 * 0.8 / P_A\n",
        "print(P_3b)"
      ],
      "metadata": {
        "colab": {
          "base_uri": "https://localhost:8080/"
        },
        "id": "s1aKsPRGX7ij",
        "outputId": "9b8ad0dd-73f8-4103-e30e-dd60523f2604"
      },
      "execution_count": null,
      "outputs": [
        {
          "output_type": "stream",
          "name": "stdout",
          "text": [
            "0.3478260869565218\n"
          ]
        }
      ]
    },
    {
      "cell_type": "markdown",
      "source": [
        "**Решение (в):**"
      ],
      "metadata": {
        "id": "Skh5sSw3X7pr"
      }
    },
    {
      "cell_type": "code",
      "source": [
        "P_3c = 1 / 3 * 0.6 / P_A\n",
        "print(P_3c)"
      ],
      "metadata": {
        "colab": {
          "base_uri": "https://localhost:8080/"
        },
        "id": "Y_bAofZZX7-r",
        "outputId": "ea2aa907-38cb-43b7-c205-c3aaa28b3cd6"
      },
      "execution_count": null,
      "outputs": [
        {
          "output_type": "stream",
          "name": "stdout",
          "text": [
            "0.2608695652173913\n"
          ]
        }
      ]
    },
    {
      "cell_type": "markdown",
      "source": [
        "**Задание 4:** В университет на факультеты A и B поступило равное количество студентов, а на факультет C студентов поступило столько же, сколько на A и B вместе. Вероятность того, что студент факультета A сдаст первую сессию, равна 0.8. Для студента факультета B эта вероятность равна 0.7, а для студента факультета C - 0.9. Студент сдал первую сессию. Какова вероятность, что он учится: a) на факультете A б) на факультете B в) на факультете C?"
      ],
      "metadata": {
        "id": "FaA2oeZiY46m"
      }
    },
    {
      "cell_type": "markdown",
      "source": [
        "**Решение (а):**"
      ],
      "metadata": {
        "id": "NB8gXLf6ZDeq"
      }
    },
    {
      "cell_type": "markdown",
      "source": [
        "Пусть x (студентов) учатся и на А, и В факультетах (на каждом из них в отдельности).\n",
        "Тогда 2*х (студентов) учатся на факультете С. Всего на 3х факультетах: 4*х студентов"
      ],
      "metadata": {
        "id": "UAL8ufk1Gt4w"
      }
    },
    {
      "cell_type": "markdown",
      "source": [
        "Вероятность того, что отдельно взяты студент:\n",
        "1) с первого факультета: х / 4х = 1/4;\n",
        "2) со второго факультета: х / 4х = 1/4;\n",
        "3) с третьего факультета: 2х / 4х = 1/2;"
      ],
      "metadata": {
        "id": "sqZWyAsuHvxb"
      }
    },
    {
      "cell_type": "markdown",
      "source": [
        "Будем использовать формулу Байеса. Найдём вероятность (P(A)) того, про произойдёт событие А (студент сдаст первую сессию):"
      ],
      "metadata": {
        "id": "dU7gyCC4HKQ5"
      }
    },
    {
      "cell_type": "code",
      "source": [
        "P_A = 1 / 4 * 0.8 + 1 / 4 * 0.7 + 1 / 2 * 0.9\n",
        "print(P_A)"
      ],
      "metadata": {
        "colab": {
          "base_uri": "https://localhost:8080/"
        },
        "id": "BJYXBSvXZFJ4",
        "outputId": "4332020b-6e82-4e91-be57-f36d249b12fd"
      },
      "execution_count": null,
      "outputs": [
        {
          "output_type": "stream",
          "name": "stdout",
          "text": [
            "0.825\n"
          ]
        }
      ]
    },
    {
      "cell_type": "markdown",
      "source": [
        "Теперь подставим вероятность того, что студент с перввого факультета и вероятность того, что он сдаст эту сессию:"
      ],
      "metadata": {
        "id": "-NPTYOO-IRYG"
      }
    },
    {
      "cell_type": "code",
      "source": [
        "P_4a = 1 / 4 * 0.8 / P_A\n",
        "print(P_4a)"
      ],
      "metadata": {
        "colab": {
          "base_uri": "https://localhost:8080/"
        },
        "id": "OT5J2ICnIRd-",
        "outputId": "80d499a3-3eb5-4ba0-acb0-3572b9080a3d"
      },
      "execution_count": null,
      "outputs": [
        {
          "output_type": "stream",
          "name": "stdout",
          "text": [
            "0.24242424242424246\n"
          ]
        }
      ]
    },
    {
      "cell_type": "markdown",
      "source": [
        "**Решение (б):**"
      ],
      "metadata": {
        "id": "QQy9e6afZFRy"
      }
    },
    {
      "cell_type": "code",
      "source": [
        "P_4b = 1 / 4 * 0.7 / P_A\n",
        "print(P_4b)"
      ],
      "metadata": {
        "colab": {
          "base_uri": "https://localhost:8080/"
        },
        "id": "oiz8abuaZFaY",
        "outputId": "774ebe42-d2f2-4767-943d-da0cbcdcffea"
      },
      "execution_count": null,
      "outputs": [
        {
          "output_type": "stream",
          "name": "stdout",
          "text": [
            "0.21212121212121213\n"
          ]
        }
      ]
    },
    {
      "cell_type": "markdown",
      "source": [
        "**Решение (в):**"
      ],
      "metadata": {
        "id": "0Q3hNUm1ZFmc"
      }
    },
    {
      "cell_type": "code",
      "source": [
        "P_4c = 1 / 2 * 0.9 / P_A\n",
        "print(P_4c)"
      ],
      "metadata": {
        "colab": {
          "base_uri": "https://localhost:8080/"
        },
        "id": "iGm_xcb3ZFwq",
        "outputId": "e8e69035-be1e-4568-bb7e-48d5fb1c9211"
      },
      "execution_count": null,
      "outputs": [
        {
          "output_type": "stream",
          "name": "stdout",
          "text": [
            "0.5454545454545455\n"
          ]
        }
      ]
    },
    {
      "cell_type": "markdown",
      "source": [
        "**Задание 5:** Устройство состоит из трех деталей. Для первой детали вероятность выйти из строя в первый месяц равна 0.1, для второй - 0.2, для третьей - 0.25. Какова вероятность того, что в первый месяц выйдут из строя: а) все детали б) только две детали в) хотя бы одна деталь г) от одной до двух деталей?"
      ],
      "metadata": {
        "id": "i317HVntZNtE"
      }
    },
    {
      "cell_type": "markdown",
      "source": [
        "**Решение (а):**"
      ],
      "metadata": {
        "id": "T0cYl0ZrZaGh"
      }
    },
    {
      "cell_type": "code",
      "source": [
        "P_5a = 0.1 * 0.2 * 0.25\n",
        "print(P_5a) "
      ],
      "metadata": {
        "colab": {
          "base_uri": "https://localhost:8080/"
        },
        "id": "FQzP5kpvZaPN",
        "outputId": "958b2073-1cfa-444a-8714-8fb12bf98cc6"
      },
      "execution_count": null,
      "outputs": [
        {
          "output_type": "stream",
          "name": "stdout",
          "text": [
            "0.005000000000000001\n"
          ]
        }
      ]
    },
    {
      "cell_type": "markdown",
      "source": [
        "**Решение (б):**"
      ],
      "metadata": {
        "id": "n3oCeWU9ZadH"
      }
    },
    {
      "cell_type": "code",
      "source": [
        "P_5b = 0.1 * 0.2 * 0.75 + 0.1 * 0.8 * 0.25 + 0.9 * 0.2 * 0.25\n",
        "print(P_5b)"
      ],
      "metadata": {
        "colab": {
          "base_uri": "https://localhost:8080/"
        },
        "id": "FBKZ4BcuZalz",
        "outputId": "06222faf-7275-42e6-d67e-1100e99cbc87"
      },
      "execution_count": 3,
      "outputs": [
        {
          "output_type": "stream",
          "name": "stdout",
          "text": [
            "0.08000000000000002\n"
          ]
        }
      ]
    },
    {
      "cell_type": "markdown",
      "source": [
        "**Решение (в):**"
      ],
      "metadata": {
        "id": "PgpqfanCZauI"
      }
    },
    {
      "cell_type": "code",
      "source": [
        "P_5c = 1 - 0.9 * 0.8 * 0.75\n",
        "print(P_5c)"
      ],
      "metadata": {
        "colab": {
          "base_uri": "https://localhost:8080/"
        },
        "id": "EIt7YKJEZa2L",
        "outputId": "7b0610f0-3769-411d-abb7-629c8da58538"
      },
      "execution_count": 1,
      "outputs": [
        {
          "output_type": "stream",
          "name": "stdout",
          "text": [
            "0.45999999999999996\n"
          ]
        }
      ]
    },
    {
      "cell_type": "markdown",
      "source": [
        "**Решение (г):**"
      ],
      "metadata": {
        "id": "BSIte0rMZcLV"
      }
    },
    {
      "cell_type": "code",
      "source": [
        "P_5d = P_5b + 0.1 * 0.8 * 0.75 + 0.9 * 0.2 * 0.75 + 0.9 * 0.8 * 0.25\n",
        "print(P_5d)"
      ],
      "metadata": {
        "colab": {
          "base_uri": "https://localhost:8080/"
        },
        "id": "Ai-z8rNcZcUq",
        "outputId": "eb9a6356-81ee-48fe-c335-aa075dddcfc9"
      },
      "execution_count": 4,
      "outputs": [
        {
          "output_type": "stream",
          "name": "stdout",
          "text": [
            "0.45500000000000007\n"
          ]
        }
      ]
    }
  ]
}